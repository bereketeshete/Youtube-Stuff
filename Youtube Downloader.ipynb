{
 "cells": [
  {
   "cell_type": "code",
   "execution_count": 2,
   "id": "3f2ead49",
   "metadata": {},
   "outputs": [
    {
     "name": "stdout",
     "output_type": "stream",
     "text": [
      "Fat influencers get destroyed by fat guy by Balkan Gains 22 hours ago 39 seconds 254,496 views\n",
      "22 hours ago 39 seconds \n"
     ]
    }
   ],
   "source": [
    "import requests\n",
    "import re\n",
    "\n",
    "channel = \"https://www.youtube.com/@balkangains\"\n",
    "\n",
    "html = requests.get(channel + \"/videos\").text\n",
    "info = re.search('(?<={\"label\":\").*?(?=\"})', html).group()\n",
    "date = re.search('\\d+ \\w+ ago.*seconds ', info).group()\n",
    "\n",
    "print(info)\n",
    "print(date)"
   ]
  },
  {
   "cell_type": "code",
   "execution_count": 8,
   "id": "acd1ef21",
   "metadata": {},
   "outputs": [
    {
     "data": {
      "text/plain": [
       "'C:\\\\Users\\\\bkebede\\\\OneDrive - The University of Memphis\\\\Desktop\\\\Youtube\\\\Apple HomePod Review The Dumbest Smart Speaker.mp4'"
      ]
     },
     "execution_count": 8,
     "metadata": {},
     "output_type": "execute_result"
    }
   ],
   "source": [
    "import pytube\n",
    "link = \"https://www.youtube.com/watch?v=mpjREfvZiDs\"\n",
    "SAVE_PATH = r\"C:\\Users\\bkebede\\OneDrive - The University of Memphis\\Desktop\\Youtube\"\n",
    "yt = pytube.YouTube(link)\n",
    "yt.streams.filter(progressive=True, file_extension='mp4').order_by('resolution')[-1].download()"
   ]
  }
 ],
 "metadata": {
  "kernelspec": {
   "display_name": "Python 3 (ipykernel)",
   "language": "python",
   "name": "python3"
  },
  "language_info": {
   "codemirror_mode": {
    "name": "ipython",
    "version": 3
   },
   "file_extension": ".py",
   "mimetype": "text/x-python",
   "name": "python",
   "nbconvert_exporter": "python",
   "pygments_lexer": "ipython3",
   "version": "3.9.7"
  }
 },
 "nbformat": 4,
 "nbformat_minor": 5
}
